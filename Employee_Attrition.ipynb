{
  "nbformat": 4,
  "nbformat_minor": 0,
  "metadata": {
    "colab": {
      "name": "Employee-Attrition.ipynb",
      "provenance": [],
      "authorship_tag": "ABX9TyMvkWpR0A5VY4bD+HAAO0IK",
      "include_colab_link": true
    },
    "kernelspec": {
      "name": "python3",
      "display_name": "Python 3"
    },
    "language_info": {
      "name": "python"
    }
  },
  "cells": [
    {
      "cell_type": "markdown",
      "metadata": {
        "id": "view-in-github",
        "colab_type": "text"
      },
      "source": [
        "<a href=\"https://colab.research.google.com/github/mcgilliam/hello-world/blob/main/Employee_Attrition.ipynb\" target=\"_parent\"><img src=\"https://colab.research.google.com/assets/colab-badge.svg\" alt=\"Open In Colab\"/></a>"
      ]
    },
    {
      "cell_type": "code",
      "metadata": {
        "id": "nM_rDL6L-4sp"
      },
      "source": [
        "import pandas as pd\n",
        "import seaborn as sns\n",
        "sns.set(style=\"darkgrid\")"
      ],
      "execution_count": 6,
      "outputs": []
    },
    {
      "cell_type": "code",
      "metadata": {
        "id": "KeqoEwS__MIS"
      },
      "source": [
        "#bit.ly url shortener \n",
        "url = \"http://bit.ly/hr_dataset\"\n"
      ],
      "execution_count": 9,
      "outputs": []
    },
    {
      "cell_type": "code",
      "metadata": {
        "colab": {
          "base_uri": "https://localhost:8080/",
          "height": 130
        },
        "id": "xgnn-Ya2Bylz",
        "outputId": "f54a9590-1cf9-404c-cd3c-907df1c3be64"
      },
      "source": [
        "df_employees = pd.read _csv(url)"
      ],
      "execution_count": 11,
      "outputs": [
        {
          "output_type": "error",
          "ename": "SyntaxError",
          "evalue": "ignored",
          "traceback": [
            "\u001b[0;36m  File \u001b[0;32m\"<ipython-input-11-526d1fa50e1f>\"\u001b[0;36m, line \u001b[0;32m1\u001b[0m\n\u001b[0;31m    df_employees = pd.read _csv(\"http://bit.ly/hr_dataset\")\u001b[0m\n\u001b[0m                              ^\u001b[0m\n\u001b[0;31mSyntaxError\u001b[0m\u001b[0;31m:\u001b[0m invalid syntax\n"
          ]
        }
      ]
    },
    {
      "cell_type": "code",
      "metadata": {
        "id": "m4KZ5YtnABbC"
      },
      "source": [
        "df_employees.describe()"
      ],
      "execution_count": null,
      "outputs": []
    },
    {
      "cell_type": "code",
      "metadata": {
        "id": "pkHKgJ2EAHXC"
      },
      "source": [
        "sns.displot(df_employees, x= \"Pay Rate\", kind= \"kde\", fill= True)"
      ],
      "execution_count": null,
      "outputs": []
    },
    {
      "cell_type": "code",
      "metadata": {
        "id": "_vbFnb07Al_P"
      },
      "source": [
        "sns.displot(df_employees, x= \"Pay Rate\", hue= \"Sex\", kind= \"kde\", fill= True)"
      ],
      "execution_count": null,
      "outputs": []
    }
  ]
}